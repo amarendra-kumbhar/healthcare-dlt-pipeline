{
 "cells": [
  {
   "cell_type": "code",
   "execution_count": 0,
   "metadata": {
    "application/vnd.databricks.v1+cell": {
     "cellMetadata": {
      "byteLimit": 2048000,
      "implicitDf": true,
      "rowLimit": 10000
     },
     "inputWidgets": {},
     "nuid": "6257f207-50de-453f-9b8f-6b57183ca243",
     "showTitle": false,
     "title": ""
    }
   },
   "outputs": [
    {
     "data": {
      "text/html": [
       "<style scoped>\n",
       "  .table-result-container {\n",
       "    max-height: 300px;\n",
       "    overflow: auto;\n",
       "  }\n",
       "  table, th, td {\n",
       "    border: 1px solid black;\n",
       "    border-collapse: collapse;\n",
       "  }\n",
       "  th, td {\n",
       "    padding: 5px;\n",
       "  }\n",
       "  th {\n",
       "    text-align: left;\n",
       "  }\n",
       "</style><div class='table-result-container'><table class='table-result'><thead style='background-color: white'><tr></tr></thead><tbody></tbody></table></div>"
      ]
     },
     "metadata": {
      "application/vnd.databricks.v1+output": {
       "addedWidgets": {},
       "aggData": [],
       "aggError": "",
       "aggOverflow": false,
       "aggSchema": [],
       "aggSeriesLimitReached": false,
       "aggType": "",
       "arguments": {},
       "columnCustomDisplayInfos": {},
       "data": [],
       "datasetInfos": [],
       "dbfsResultPath": null,
       "isJsonSchema": true,
       "metadata": {
        "dataframeName": null
       },
       "overflow": false,
       "plotOptions": {
        "customPlotOptions": {},
        "displayType": "table",
        "pivotAggregation": null,
        "pivotColumns": null,
        "xColumns": null,
        "yColumns": null
       },
       "removedWidgets": [],
       "schema": [],
       "type": "table"
      }
     },
     "output_type": "display_data"
    }
   ],
   "source": [
    "%sql\n",
    "CREATE SCHEMA IF NOT EXISTS default;"
   ]
  },
  {
   "cell_type": "code",
   "execution_count": 0,
   "metadata": {
    "application/vnd.databricks.v1+cell": {
     "cellMetadata": {
      "byteLimit": 2048000,
      "implicitDf": true,
      "rowLimit": 10000
     },
     "inputWidgets": {},
     "nuid": "e3515a39-0d02-45ee-9065-1138a31d63ee",
     "showTitle": false,
     "title": ""
    }
   },
   "outputs": [
    {
     "data": {
      "text/html": [
       "<style scoped>\n",
       "  .table-result-container {\n",
       "    max-height: 300px;\n",
       "    overflow: auto;\n",
       "  }\n",
       "  table, th, td {\n",
       "    border: 1px solid black;\n",
       "    border-collapse: collapse;\n",
       "  }\n",
       "  th, td {\n",
       "    padding: 5px;\n",
       "  }\n",
       "  th {\n",
       "    text-align: left;\n",
       "  }\n",
       "</style><div class='table-result-container'><table class='table-result'><thead style='background-color: white'><tr><th>diagnosis_code</th><th>diagnosis_description</th></tr></thead><tbody><tr><td>D001</td><td>Hypertension</td></tr><tr><td>D002</td><td>Diabetes Mellitus</td></tr><tr><td>D003</td><td>Chronic Obstructive Pulmonary Disease</td></tr><tr><td>D004</td><td>Asthma</td></tr><tr><td>D005</td><td>Heart Failure</td></tr><tr><td>D006</td><td>Stroke</td></tr><tr><td>D007</td><td>Myocardial Infarction</td></tr><tr><td>D008</td><td>Chronic Kidney Disease</td></tr><tr><td>D009</td><td>Hyperlipidemia</td></tr><tr><td>D010</td><td>Coronary Artery Disease</td></tr></tbody></table></div>"
      ]
     },
     "metadata": {
      "application/vnd.databricks.v1+output": {
       "addedWidgets": {},
       "aggData": [],
       "aggError": "",
       "aggOverflow": false,
       "aggSchema": [],
       "aggSeriesLimitReached": false,
       "aggType": "",
       "arguments": {},
       "columnCustomDisplayInfos": {},
       "data": [
        [
         "D001",
         "Hypertension"
        ],
        [
         "D002",
         "Diabetes Mellitus"
        ],
        [
         "D003",
         "Chronic Obstructive Pulmonary Disease"
        ],
        [
         "D004",
         "Asthma"
        ],
        [
         "D005",
         "Heart Failure"
        ],
        [
         "D006",
         "Stroke"
        ],
        [
         "D007",
         "Myocardial Infarction"
        ],
        [
         "D008",
         "Chronic Kidney Disease"
        ],
        [
         "D009",
         "Hyperlipidemia"
        ],
        [
         "D010",
         "Coronary Artery Disease"
        ]
       ],
       "datasetInfos": [],
       "dbfsResultPath": null,
       "isJsonSchema": true,
       "metadata": {},
       "overflow": false,
       "plotOptions": {
        "customPlotOptions": {},
        "displayType": "table",
        "pivotAggregation": null,
        "pivotColumns": null,
        "xColumns": null,
        "yColumns": null
       },
       "removedWidgets": [],
       "schema": [
        {
         "metadata": "{}",
         "name": "diagnosis_code",
         "type": "\"string\""
        },
        {
         "metadata": "{}",
         "name": "diagnosis_description",
         "type": "\"string\""
        }
       ],
       "type": "table"
      }
     },
     "output_type": "display_data"
    }
   ],
   "source": [
    "df = spark.read.option(\"header\", \"true\").option(\"inferSchema\", \"true\").csv(\"dbfs:/FileStore/amarendra/raw_data/diagnosis_mapping.csv\")\n",
    "display(df)\n",
    "df.write.format(\"delta\").mode(\"append\").saveAsTable(\"default.raw_diagnosis_map\")"
   ]
  },
  {
   "cell_type": "code",
   "execution_count": 0,
   "metadata": {
    "application/vnd.databricks.v1+cell": {
     "cellMetadata": {
      "byteLimit": 2048000,
      "rowLimit": 10000
     },
     "inputWidgets": {},
     "nuid": "d7bf4140-adc9-4646-bd0b-ada79dc91c3c",
     "showTitle": false,
     "title": ""
    }
   },
   "outputs": [
    {
     "data": {
      "text/html": [
       "<style scoped>\n",
       "  .table-result-container {\n",
       "    max-height: 300px;\n",
       "    overflow: auto;\n",
       "  }\n",
       "  table, th, td {\n",
       "    border: 1px solid black;\n",
       "    border-collapse: collapse;\n",
       "  }\n",
       "  th, td {\n",
       "    padding: 5px;\n",
       "  }\n",
       "  th {\n",
       "    text-align: left;\n",
       "  }\n",
       "</style><div class='table-result-container'><table class='table-result'><thead style='background-color: white'><tr><th>patient_id</th><th>name</th><th>age</th><th>gender</th><th>address</th><th>contact_number</th><th>admission_date</th><th>diagnosis_code</th></tr></thead><tbody><tr><td>P001</td><td>John Doe</td><td>45</td><td>M</td><td>123 Elm St</td><td>555-1234</td><td>2024-01-01</td><td>D001</td></tr><tr><td>P002</td><td>Jane Smith</td><td>34</td><td>F</td><td>456 Oak St</td><td>555-5678</td><td>2024-01-02</td><td>D002</td></tr><tr><td>P003</td><td>Alice Johnson</td><td>29</td><td>F</td><td>789 Pine St</td><td>555-8765</td><td>2024-01-03</td><td>D003</td></tr><tr><td>P004</td><td>Bob Brown</td><td>54</td><td>M</td><td>101 Maple St</td><td>555-4321</td><td>2024-01-04</td><td>D004</td></tr><tr><td>P005</td><td>Eve Davis</td><td>61</td><td>F</td><td>202 Cedar St</td><td>555-6789</td><td>2024-01-05</td><td>D005</td></tr><tr><td>P006</td><td>Charlie Wilson</td><td>40</td><td>M</td><td>303 Birch St</td><td>555-2345</td><td>2024-01-06</td><td>D006</td></tr><tr><td>P007</td><td>Diana Martinez</td><td>48</td><td>F</td><td>404 Cedar St</td><td>555-3456</td><td>2024-01-07</td><td>D007</td></tr><tr><td>P008</td><td>Edward Clark</td><td>52</td><td>M</td><td>505 Elm St</td><td>555-4567</td><td>2024-01-08</td><td>D008</td></tr><tr><td>P009</td><td>Grace Lewis</td><td>37</td><td>F</td><td>606 Oak St</td><td>555-5678</td><td>2024-01-09</td><td>D009</td></tr><tr><td>P010</td><td>Harry Walker</td><td>33</td><td>M</td><td>707 Pine St</td><td>555-6789</td><td>2024-01-10</td><td>D010</td></tr><tr><td>P011</td><td>Ivy Hall</td><td>41</td><td>F</td><td>808 Maple St</td><td>555-7890</td><td>2024-01-11</td><td>D003</td></tr><tr><td>P012</td><td>James Allen</td><td>46</td><td>M</td><td>909 Birch St</td><td>555-8901</td><td>2024-01-12</td><td>D007</td></tr><tr><td>P013</td><td>Karen Young</td><td>28</td><td>F</td><td>1010 Cedar St</td><td>555-9012</td><td>2024-01-13</td><td>D002</td></tr><tr><td>P014</td><td>Liam King</td><td>39</td><td>M</td><td>1111 Elm St</td><td>555-0123</td><td>2024-01-14</td><td>D009</td></tr><tr><td>P015</td><td>Mia Scott</td><td>50</td><td>F</td><td>1212 Oak St</td><td>555-1234</td><td>2024-01-15</td><td>D001</td></tr><tr><td>P016</td><td>Noah Adams</td><td>43</td><td>M</td><td>1313 Pine St</td><td>555-2345</td><td>2024-01-16</td><td>D010</td></tr><tr><td>P017</td><td>Olivia Baker</td><td>31</td><td>F</td><td>1414 Maple St</td><td>555-3456</td><td>2024-01-17</td><td>D008</td></tr><tr><td>P018</td><td>Paul Gonzalez</td><td>55</td><td>M</td><td>1515 Birch St</td><td>555-4567</td><td>2024-01-18</td><td>D004</td></tr><tr><td>P019</td><td>Quinn Carter</td><td>49</td><td>F</td><td>1616 Cedar St</td><td>555-5678</td><td>2024-01-19</td><td>D006</td></tr><tr><td>P020</td><td>Rachel Phillips</td><td>30</td><td>F</td><td>1717 Elm St</td><td>555-6789</td><td>2024-01-20</td><td>D005</td></tr><tr><td>P021</td><td>Steve Evans</td><td>44</td><td>M</td><td>1818 Oak St</td><td>555-7890</td><td>2024-01-21</td><td>D007</td></tr><tr><td>P022</td><td>Tracy Nelson</td><td>32</td><td>F</td><td>1919 Pine St</td><td>555-8901</td><td>2024-01-22</td><td>D002</td></tr><tr><td>P023</td><td>Uma Brooks</td><td>47</td><td>F</td><td>2020 Maple St</td><td>555-9012</td><td>2024-01-23</td><td>D009</td></tr><tr><td>P024</td><td>Victor Morris</td><td>38</td><td>M</td><td>2121 Birch St</td><td>555-0123</td><td>2024-01-24</td><td>D010</td></tr><tr><td>P025</td><td>Wendy Cooper</td><td>51</td><td>F</td><td>2222 Cedar St</td><td>555-1234</td><td>2024-01-25</td><td>D001</td></tr><tr><td>P026</td><td>Xander Lee</td><td>29</td><td>M</td><td>2323 Elm St</td><td>555-2345</td><td>2024-01-26</td><td>D003</td></tr><tr><td>P027</td><td>Yara Bell</td><td>40</td><td>F</td><td>2424 Oak St</td><td>555-3456</td><td>2024-01-27</td><td>D006</td></tr><tr><td>P028</td><td>Zachary Harris</td><td>56</td><td>M</td><td>2525 Pine St</td><td>555-4567</td><td>2024-01-28</td><td>D008</td></tr><tr><td>P029</td><td>Amelia Gray</td><td>34</td><td>F</td><td>2626 Maple St</td><td>555-5678</td><td>2024-01-29</td><td>D004</td></tr><tr><td>P030</td><td>Benjamin Wright</td><td>42</td><td>M</td><td>2727 Birch St</td><td>555-6789</td><td>2024-01-30</td><td>D007</td></tr><tr><td>P031</td><td>Catherine James</td><td>46</td><td>F</td><td>2828 Cedar St</td><td>555-7890</td><td>2024-01-31</td><td>D005</td></tr><tr><td>P032</td><td>David Walker</td><td>50</td><td>M</td><td>2929 Elm St</td><td>555-8901</td><td>2024-02-01</td><td>D009</td></tr><tr><td>P033</td><td>Emily King</td><td>31</td><td>F</td><td>3030 Oak St</td><td>555-9012</td><td>2024-02-02</td><td>D010</td></tr><tr><td>P034</td><td>Frank Hall</td><td>47</td><td>M</td><td>3131 Pine St</td><td>555-0123</td><td>2024-02-03</td><td>D002</td></tr><tr><td>P035</td><td>Grace Adams</td><td>53</td><td>F</td><td>3232 Maple St</td><td>555-1234</td><td>2024-02-04</td><td>D003</td></tr><tr><td>P036</td><td>Henry Scott</td><td>38</td><td>M</td><td>3333 Birch St</td><td>555-2345</td><td>2024-02-05</td><td>D001</td></tr><tr><td>P037</td><td>Isabella Lewis</td><td>39</td><td>F</td><td>3434 Cedar St</td><td>555-3456</td><td>2024-02-06</td><td>D007</td></tr><tr><td>P038</td><td>Jack Young</td><td>45</td><td>M</td><td>3535 Elm St</td><td>555-4567</td><td>2024-02-07</td><td>D006</td></tr><tr><td>P039</td><td>Kimberly Brown</td><td>48</td><td>F</td><td>3636 Oak St</td><td>555-5678</td><td>2024-02-08</td><td>D010</td></tr><tr><td>P040</td><td>Lucas Miller</td><td>29</td><td>M</td><td>3737 Pine St</td><td>555-6789</td><td>2024-02-09</td><td>D004</td></tr><tr><td>P041</td><td>Maria Davis</td><td>36</td><td>F</td><td>3838 Maple St</td><td>555-7890</td><td>2024-02-10</td><td>D008</td></tr><tr><td>P042</td><td>Nathan Robinson</td><td>50</td><td>M</td><td>3939 Birch St</td><td>555-8901</td><td>2024-02-11</td><td>D005</td></tr><tr><td>P043</td><td>Olivia Carter</td><td>52</td><td>F</td><td>4040 Cedar St</td><td>555-9012</td><td>2024-02-12</td><td>D009</td></tr><tr><td>P044</td><td>Patrick Wilson</td><td>37</td><td>M</td><td>4141 Elm St</td><td>555-0123</td><td>2024-02-13</td><td>D001</td></tr><tr><td>P045</td><td>Quinn Evans</td><td>55</td><td>F</td><td>4242 Oak St</td><td>555-1234</td><td>2024-02-14</td><td>D010</td></tr><tr><td>P046</td><td>Rachel Harris</td><td>41</td><td>F</td><td>4343 Pine St</td><td>555-2345</td><td>2024-02-15</td><td>D007</td></tr><tr><td>P047</td><td>Samuel Clark</td><td>39</td><td>M</td><td>4444 Maple St</td><td>555-3456</td><td>2024-02-16</td><td>D002</td></tr><tr><td>P048</td><td>Tiffany Johnson</td><td>34</td><td>F</td><td>4545 Birch St</td><td>555-4567</td><td>2024-02-17</td><td>D003</td></tr><tr><td>P049</td><td>Uriel Martinez</td><td>44</td><td>M</td><td>4646 Cedar St</td><td>555-5678</td><td>2024-02-18</td><td>D006</td></tr><tr><td>P050</td><td>Vanessa Lewis</td><td>51</td><td>F</td><td>4747 Elm St</td><td>555-6789</td><td>2024-02-19</td><td>D008</td></tr><tr><td>P051</td><td>William Green</td><td>46</td><td>M</td><td>4848 Oak St</td><td>555-7890</td><td>2024-02-20</td><td>D005</td></tr><tr><td>P052</td><td>Xena Walker</td><td>35</td><td>F</td><td>4949 Pine St</td><td>555-8901</td><td>2024-02-21</td><td>D009</td></tr><tr><td>P053</td><td>Yvonne Carter</td><td>42</td><td>F</td><td>5050 Maple St</td><td>555-9012</td><td>2024-02-22</td><td>D001</td></tr><tr><td>P054</td><td>Zachary Adams</td><td>38</td><td>M</td><td>5151 Birch St</td><td>555-0123</td><td>2024-02-23</td><td>D010</td></tr><tr><td>P055</td><td>Alice Thompson</td><td>40</td><td>F</td><td>5252 Cedar St</td><td>555-1234</td><td>2024-02-24</td><td>D004</td></tr><tr><td>P056</td><td>Benjamin Clark</td><td>50</td><td>M</td><td>5353 Elm St</td><td>555-2345</td><td>2024-02-25</td><td>D007</td></tr><tr><td>P057</td><td>Catherine Lee</td><td>29</td><td>F</td><td>5454 Oak St</td><td>555-3456</td><td>2024-02-26</td><td>D002</td></tr><tr><td>P058</td><td>Daniel Wright</td><td>44</td><td>M</td><td>5555 Pine St</td><td>555-4567</td><td>2024-02-27</td><td>D003</td></tr><tr><td>P059</td><td>Emily Harris</td><td>37</td><td>F</td><td>5656 Maple St</td><td>555-5678</td><td>2024-02-28</td><td>D005</td></tr><tr><td>P060</td><td>Frankie Young</td><td>52</td><td>M</td><td>5757 Birch St</td><td>555-6789</td><td>2024-02-29</td><td>D008</td></tr><tr><td>P061</td><td>Grace Robinson</td><td>33</td><td>F</td><td>5858 Cedar St</td><td>555-7890</td><td>2024-03-01</td><td>D009</td></tr><tr><td>P062</td><td>Henry Davis</td><td>46</td><td>M</td><td>5959 Elm St</td><td>555-8901</td><td>2024-03-02</td><td>D010</td></tr><tr><td>P063</td><td>Isabella Evans</td><td>31</td><td>F</td><td>6060 Oak St</td><td>555-9012</td><td>2024-03-03</td><td>D001</td></tr><tr><td>P064</td><td>Jack Lewis</td><td>49</td><td>M</td><td>6161 Pine St</td><td>555-0123</td><td>2024-03-04</td><td>D007</td></tr><tr><td>P065</td><td>Kimberly Wilson</td><td>36</td><td>F</td><td>6262 Maple St</td><td>555-1234</td><td>2024-03-05</td><td>D002</td></tr><tr><td>P066</td><td>Liam Harris</td><td>41</td><td>M</td><td>6363 Birch St</td><td>555-2345</td><td>2024-03-06</td><td>D004</td></tr><tr><td>P067</td><td>Maria Young</td><td>30</td><td>F</td><td>6464 Cedar St</td><td>555-3456</td><td>2024-03-07</td><td>D009</td></tr><tr><td>P068</td><td>Nathan Scott</td><td>51</td><td>M</td><td>6565 Elm St</td><td>555-4567</td><td>2024-03-08</td><td>D003</td></tr><tr><td>P069</td><td>Olivia King</td><td>37</td><td>F</td><td>6666 Oak St</td><td>555-5678</td><td>2024-03-09</td><td>D006</td></tr><tr><td>P070</td><td>Patrick Martinez</td><td>40</td><td>M</td><td>6767 Pine St</td><td>555-6789</td><td>2024-03-10</td><td>D010</td></tr><tr><td>P071</td><td>Quinn Adams</td><td>53</td><td>F</td><td>6868 Maple St</td><td>555-7890</td><td>2024-03-11</td><td>D008</td></tr><tr><td>P072</td><td>Rachel White</td><td>34</td><td>F</td><td>6969 Birch St</td><td>555-8901</td><td>2024-03-12</td><td>D005</td></tr><tr><td>P073</td><td>Samuel Robinson</td><td>38</td><td>M</td><td>7070 Cedar St</td><td>555-9012</td><td>2024-03-13</td><td>D007</td></tr><tr><td>P074</td><td>Tiffany Brown</td><td>45</td><td>F</td><td>7171 Elm St</td><td>555-0123</td><td>2024-03-14</td><td>D002</td></tr><tr><td>P075</td><td>Uriel Davis</td><td>50</td><td>M</td><td>7272 Oak St</td><td>555-1234</td><td>2024-03-15</td><td>D009</td></tr><tr><td>P076</td><td>Vanessa Johnson</td><td>29</td><td>F</td><td>7373 Pine St</td><td>555-2345</td><td>2024-03-16</td><td>D001</td></tr><tr><td>P077</td><td>William White</td><td>42</td><td>M</td><td>7474 Maple St</td><td>555-3456</td><td>2024-03-17</td><td>D010</td></tr><tr><td>P078</td><td>Xena Adams</td><td>39</td><td>F</td><td>7575 Birch St</td><td>555-4567</td><td>2024-03-18</td><td>D003</td></tr><tr><td>P079</td><td>Yvonne Scott</td><td>46</td><td>F</td><td>7676 Cedar St</td><td>555-5678</td><td>2024-03-19</td><td>D004</td></tr><tr><td>P080</td><td>Zachary Harris</td><td>33</td><td>M</td><td>7777 Elm St</td><td>555-6789</td><td>2024-03-20</td><td>D008</td></tr><tr><td>P081</td><td>Alice Lewis</td><td>50</td><td>F</td><td>7878 Oak St</td><td>555-7890</td><td>2024-03-21</td><td>D005</td></tr><tr><td>P082</td><td>Benjamin Wilson</td><td>28</td><td>M</td><td>7979 Pine St</td><td>555-8901</td><td>2024-03-22</td><td>D007</td></tr><tr><td>P083</td><td>Catherine Davis</td><td>44</td><td>F</td><td>8080 Maple St</td><td>555-9012</td><td>2024-03-23</td><td>D006</td></tr><tr><td>P084</td><td>Daniel Young</td><td>39</td><td>M</td><td>8181 Birch St</td><td>555-0123</td><td>2024-03-24</td><td>D002</td></tr><tr><td>P085</td><td>Emily Brown</td><td>53</td><td>F</td><td>8282 Cedar St</td><td>555-1234</td><td>2024-03-25</td><td>D009</td></tr><tr><td>P086</td><td>Frankie Harris</td><td>42</td><td>M</td><td>8383 Elm St</td><td>555-2345</td><td>2024-03-26</td><td>D010</td></tr><tr><td>P087</td><td>Grace Wilson</td><td>31</td><td>F</td><td>8484 Oak St</td><td>555-3456</td><td>2024-03-27</td><td>D001</td></tr><tr><td>P088</td><td>Henry Scott</td><td>50</td><td>M</td><td>8585 Pine St</td><td>555-4567</td><td>2024-03-28</td><td>D004</td></tr><tr><td>P089</td><td>Isabella Adams</td><td>47</td><td>F</td><td>8686 Maple St</td><td>555-5678</td><td>2024-03-29</td><td>D007</td></tr><tr><td>P090</td><td>Jack Johnson</td><td>36</td><td>M</td><td>8787 Birch St</td><td>555-6789</td><td>2024-03-30</td><td>D005</td></tr><tr><td>P091</td><td>Kimberly Lee</td><td>34</td><td>F</td><td>8888 Cedar St</td><td>555-7890</td><td>2024-03-31</td><td>D008</td></tr><tr><td>P092</td><td>Liam Carter</td><td>45</td><td>M</td><td>8989 Elm St</td><td>555-8901</td><td>2024-04-01</td><td>D009</td></tr><tr><td>P093</td><td>Maria White</td><td>52</td><td>F</td><td>9090 Oak St</td><td>555-9012</td><td>2024-04-02</td><td>D010</td></tr><tr><td>P094</td><td>Nathan Brown</td><td>30</td><td>M</td><td>9191 Pine St</td><td>555-0123</td><td>2024-04-03</td><td>D003</td></tr><tr><td>P095</td><td>Olivia King</td><td>39</td><td>F</td><td>9292 Maple St</td><td>555-1234</td><td>2024-04-04</td><td>D002</td></tr><tr><td>P096</td><td>Patrick Harris</td><td>50</td><td>M</td><td>9393 Birch St</td><td>555-2345</td><td>2024-04-05</td><td>D007</td></tr><tr><td>P097</td><td>Quinn Lewis</td><td>41</td><td>F</td><td>9494 Cedar St</td><td>555-3456</td><td>2024-04-06</td><td>D010</td></tr><tr><td>P098</td><td>Rachel Adams</td><td>28</td><td>F</td><td>9595 Elm St</td><td>555-4567</td><td>2024-04-07</td><td>D005</td></tr><tr><td>P099</td><td>Samuel Johnson</td><td>46</td><td>M</td><td>9696 Oak St</td><td>555-5678</td><td>2024-04-08</td><td>D008</td></tr><tr><td>P100</td><td>Tiffany Davis</td><td>53</td><td>F</td><td>9797 Pine St</td><td>555-6789</td><td>2024-04-09</td><td>D001</td></tr><tr><td>P101</td><td>Uriel Adams</td><td>35</td><td>F</td><td>9898 Maple St</td><td>555-7890</td><td>2024-04-10</td><td>D009</td></tr><tr><td>P102</td><td>Vanessa Lee</td><td>48</td><td>M</td><td>9999 Birch St</td><td>555-8901</td><td>2024-04-11</td><td>D003</td></tr><tr><td>P103</td><td>William Davis</td><td>40</td><td>F</td><td>10101 Cedar St</td><td>555-9012</td><td>2024-04-12</td><td>D006</td></tr><tr><td>P104</td><td>Xena Johnson</td><td>29</td><td>M</td><td>10202 Elm St</td><td>555-0123</td><td>2024-04-13</td><td>D007</td></tr><tr><td>P105</td><td>Yvonne King</td><td>46</td><td>F</td><td>10303 Oak St</td><td>555-1234</td><td>2024-04-14</td><td>D010</td></tr><tr><td>P106</td><td>Zachary Brown</td><td>39</td><td>M</td><td>10404 Pine St</td><td>555-2345</td><td>2024-04-15</td><td>D004</td></tr><tr><td>P107</td><td>Alice Carter</td><td>51</td><td>F</td><td>10505 Maple St</td><td>555-3456</td><td>2024-04-16</td><td>D005</td></tr><tr><td>P108</td><td>Benjamin Scott</td><td>42</td><td>M</td><td>10606 Birch St</td><td>555-4567</td><td>2024-04-17</td><td>D009</td></tr><tr><td>P109</td><td>Catherine Harris</td><td>34</td><td>F</td><td>10707 Cedar St</td><td>555-5678</td><td>2024-04-18</td><td>D003</td></tr><tr><td>P110</td><td>Daniel Adams</td><td>39</td><td>M</td><td>10808 Elm St</td><td>555-6789</td><td>2024-04-19</td><td>D001</td></tr><tr><td>P111</td><td>Emily King</td><td>30</td><td>F</td><td>10909 Oak St</td><td>555-7890</td><td>2024-04-20</td><td>D008</td></tr><tr><td>P112</td><td>Frankie Lewis</td><td>53</td><td>M</td><td>11010 Pine St</td><td>555-8901</td><td>2024-04-21</td><td>D007</td></tr><tr><td>P113</td><td>Grace Johnson</td><td>36</td><td>F</td><td>11111 Maple St</td><td>555-9012</td><td>2024-04-22</td><td>D010</td></tr><tr><td>P114</td><td>Henry Adams</td><td>31</td><td>M</td><td>11212 Birch St</td><td>555-0123</td><td>2024-04-23</td><td>D002</td></tr><tr><td>P115</td><td>Isabella Wilson</td><td>50</td><td>F</td><td>11313 Cedar St</td><td>555-1234</td><td>2024-04-24</td><td>D006</td></tr><tr><td>P116</td><td>Jack Harris</td><td>29</td><td>M</td><td>11414 Elm St</td><td>555-2345</td><td>2024-04-25</td><td>D009</td></tr><tr><td>P117</td><td>Kimberly Lee</td><td>47</td><td>F</td><td>11515 Oak St</td><td>555-3456</td><td>2024-04-26</td><td>D005</td></tr><tr><td>P118</td><td>Liam Scott</td><td>34</td><td>M</td><td>11616 Pine St</td><td>555-4567</td><td>2024-04-27</td><td>D001</td></tr><tr><td>P119</td><td>Maria Brown</td><td>43</td><td>F</td><td>11717 Maple St</td><td>555-5678</td><td>2024-04-28</td><td>D004</td></tr><tr><td>P120</td><td>Nathan Johnson</td><td>39</td><td>M</td><td>11818 Birch St</td><td>555-6789</td><td>2024-04-29</td><td>D007</td></tr><tr><td>P121</td><td>Olivia Carter</td><td>46</td><td>F</td><td>11919 Cedar St</td><td>555-7890</td><td>2024-04-30</td><td>D010</td></tr><tr><td>P122</td><td>Patrick Lee</td><td>33</td><td>M</td><td>12020 Elm St</td><td>555-8901</td><td>2024-05-01</td><td>D003</td></tr><tr><td>P123</td><td>Quinn Davis</td><td>52</td><td>F</td><td>12121 Oak St</td><td>555-9012</td><td>2024-05-02</td><td>D008</td></tr><tr><td>P124</td><td>Rachel Scott</td><td>41</td><td>F</td><td>12222 Pine St</td><td>555-0123</td><td>2024-05-03</td><td>D002</td></tr><tr><td>P125</td><td>Samuel White</td><td>38</td><td>M</td><td>12323 Maple St</td><td>555-1234</td><td>2024-05-04</td><td>D009</td></tr><tr><td>P126</td><td>Tiffany Johnson</td><td>29</td><td>F</td><td>12424 Birch St</td><td>555-2345</td><td>2024-05-05</td><td>D005</td></tr><tr><td>P127</td><td>Uriel Harris</td><td>46</td><td>M</td><td>12525 Cedar St</td><td>555-3456</td><td>2024-05-06</td><td>D010</td></tr><tr><td>P128</td><td>Vanessa Brown</td><td>30</td><td>F</td><td>12626 Elm St</td><td>555-4567</td><td>2024-05-07</td><td>D001</td></tr><tr><td>P129</td><td>William King</td><td>39</td><td>M</td><td>12727 Oak St</td><td>555-5678</td><td>2024-05-08</td><td>D004</td></tr><tr><td>P130</td><td>Xena Adams</td><td>44</td><td>F</td><td>12828 Pine St</td><td>555-6789</td><td>2024-05-09</td><td>D007</td></tr><tr><td>P131</td><td>Yvonne Davis</td><td>33</td><td>F</td><td>12929 Maple St</td><td>555-7890</td><td>2024-05-10</td><td>D003</td></tr><tr><td>P132</td><td>Zachary Lewis</td><td>52</td><td>M</td><td>13030 Birch St</td><td>555-8901</td><td>2024-05-11</td><td>D006</td></tr><tr><td>P133</td><td>Alice White</td><td>48</td><td>F</td><td>13131 Cedar St</td><td>555-9012</td><td>2024-05-12</td><td>D008</td></tr><tr><td>P134</td><td>Benjamin Scott</td><td>37</td><td>M</td><td>13232 Elm St</td><td>555-0123</td><td>2024-05-13</td><td>D002</td></tr><tr><td>P135</td><td>Catherine Adams</td><td>50</td><td>F</td><td>13333 Oak St</td><td>555-1234</td><td>2024-05-14</td><td>D009</td></tr><tr><td>P136</td><td>Daniel King</td><td>29</td><td>M</td><td>13434 Pine St</td><td>555-2345</td><td>2024-05-15</td><td>D010</td></tr><tr><td>P137</td><td>Emily Johnson</td><td>46</td><td>F</td><td>13535 Maple St</td><td>555-3456</td><td>2024-05-16</td><td>D001</td></tr><tr><td>P138</td><td>Frankie Davis</td><td>41</td><td>M</td><td>13636 Birch St</td><td>555-4567</td><td>2024-05-17</td><td>D007</td></tr><tr><td>P139</td><td>Grace Brown</td><td>30</td><td>F</td><td>13737 Cedar St</td><td>555-5678</td><td>2024-05-18</td><td>D005</td></tr><tr><td>P140</td><td>Henry Lee</td><td>35</td><td>M</td><td>13838 Elm St</td><td>555-6789</td><td>2024-05-19</td><td>D003</td></tr><tr><td>P141</td><td>Isabella Harris</td><td>43</td><td>F</td><td>13939 Oak St</td><td>555-7890</td><td>2024-05-20</td><td>D004</td></tr><tr><td>P142</td><td>Jack Scott</td><td>29</td><td>M</td><td>14040 Pine St</td><td>555-8901</td><td>2024-05-21</td><td>D008</td></tr><tr><td>P143</td><td>Kimberly Johnson</td><td>50</td><td>F</td><td>14141 Maple St</td><td>555-9012</td><td>2024-05-22</td><td>D010</td></tr><tr><td>P144</td><td>Liam Carter</td><td>39</td><td>M</td><td>14242 Birch St</td><td>555-0123</td><td>2024-05-23</td><td>D006</td></tr><tr><td>P145</td><td>Maria Lee</td><td>52</td><td>F</td><td>14343 Cedar St</td><td>555-1234</td><td>2024-05-24</td><td>D009</td></tr><tr><td>P146</td><td>Nathan Adams</td><td>30</td><td>M</td><td>14444 Elm St</td><td>555-2345</td><td>2024-05-25</td><td>D002</td></tr><tr><td>P147</td><td>Olivia Wilson</td><td>48</td><td>F</td><td>14545 Oak St</td><td>555-3456</td><td>2024-05-26</td><td>D005</td></tr><tr><td>P148</td><td>Patrick Brown</td><td>34</td><td>M</td><td>14646 Pine St</td><td>555-4567</td><td>2024-05-27</td><td>D010</td></tr><tr><td>P149</td><td>Quinn Harris</td><td>50</td><td>F</td><td>14747 Maple St</td><td>555-5678</td><td>2024-05-28</td><td>D001</td></tr><tr><td>P150</td><td>Rachel Johnson</td><td>41</td><td>F</td><td>14848 Birch St</td><td>555-6789</td><td>2024-05-29</td><td>D007</td></tr><tr><td>P151</td><td>Samuel Lee</td><td>28</td><td>M</td><td>14949 Cedar St</td><td>555-7890</td><td>2024-05-30</td><td>D004</td></tr><tr><td>P152</td><td>Tiffany White</td><td>46</td><td>F</td><td>15050 Elm St</td><td>555-8901</td><td>2024-05-31</td><td>D002</td></tr><tr><td>P153</td><td>Uriel Adams</td><td>39</td><td>M</td><td>15151 Oak St</td><td>555-9012</td><td>2024-06-01</td><td>D003</td></tr><tr><td>P154</td><td>Vanessa Harris</td><td>32</td><td>F</td><td>15252 Pine St</td><td>555-0123</td><td>2024-06-02</td><td>D009</td></tr><tr><td>P155</td><td>William King</td><td>50</td><td>M</td><td>15353 Maple St</td><td>555-1234</td><td>2024-06-03</td><td>D006</td></tr><tr><td>P156</td><td>Xena Johnson</td><td>29</td><td>F</td><td>15454 Birch St</td><td>555-2345</td><td>2024-06-04</td><td>D008</td></tr><tr><td>P157</td><td>Yvonne Davis</td><td>44</td><td>F</td><td>15555 Cedar St</td><td>555-3456</td><td>2024-06-05</td><td>D010</td></tr><tr><td>P158</td><td>Zachary Brown</td><td>37</td><td>M</td><td>15656 Elm St</td><td>555-4567</td><td>2024-06-06</td><td>D001</td></tr><tr><td>P159</td><td>Alice Scott</td><td>51</td><td>F</td><td>15757 Oak St</td><td>555-5678</td><td>2024-06-07</td><td>D001</td></tr><tr><td>P160</td><td>Benjamin Lee</td><td>42</td><td>M</td><td>15858 Pine St</td><td>555-6789</td><td>2024-06-08</td><td>D001</td></tr><tr><td>P161</td><td>Catherine King</td><td>33</td><td>F</td><td>15959 Maple St</td><td>555-7890</td><td>2024-06-09</td><td>D002</td></tr><tr><td>P162</td><td>Daniel Harris</td><td>48</td><td>M</td><td>16060 Birch St</td><td>555-8901</td><td>2024-06-10</td><td>D003</td></tr><tr><td>P163</td><td>Emily Adams</td><td>37</td><td>F</td><td>16161 Cedar St</td><td>555-9012</td><td>2024-06-11</td><td>D004</td></tr><tr><td>P164</td><td>Frankie Johnson</td><td>52</td><td>M</td><td>16262 Elm St</td><td>555-0123</td><td>2024-06-12</td><td>D005</td></tr><tr><td>P165</td><td>Grace Lee</td><td>30</td><td>F</td><td>16363 Oak St</td><td>555-1234</td><td>2024-06-13</td><td>D006</td></tr><tr><td>P166</td><td>Henry Brown</td><td>39</td><td>M</td><td>16464 Pine St</td><td>555-2345</td><td>2024-06-14</td><td>D007</td></tr><tr><td>P167</td><td>Isabella Scott</td><td>46</td><td>F</td><td>16565 Maple St</td><td>555-3456</td><td>2024-06-15</td><td>D008</td></tr><tr><td>P168</td><td>Jack Carter</td><td>34</td><td>M</td><td>16666 Birch St</td><td>555-4567</td><td>2024-06-16</td><td>D009</td></tr><tr><td>P169</td><td>Kimberly Adams</td><td>50</td><td>F</td><td>16767 Cedar St</td><td>555-5678</td><td>2024-06-17</td><td>D010</td></tr><tr><td>P170</td><td>Liam Johnson</td><td>29</td><td>M</td><td>16868 Elm St</td><td>555-6789</td><td>2024-06-18</td><td>D003</td></tr><tr><td>P171</td><td>Maria Lee</td><td>43</td><td>F</td><td>16969 Oak St</td><td>555-7890</td><td>2024-06-19</td><td>D007</td></tr><tr><td>P172</td><td>Nathan Brown</td><td>35</td><td>M</td><td>17070 Pine St</td><td>555-8901</td><td>2024-06-20</td><td>D002</td></tr><tr><td>P173</td><td>Olivia Harris</td><td>48</td><td>F</td><td>17171 Maple St</td><td>555-9012</td><td>2024-06-21</td><td>D009</td></tr><tr><td>P174</td><td>Patrick Scott</td><td>30</td><td>M</td><td>17272 Birch St</td><td>555-0123</td><td>2024-06-22</td><td>D001</td></tr><tr><td>P175</td><td>Quinn Johnson</td><td>52</td><td>F</td><td>17373 Cedar St</td><td>555-1234</td><td>2024-06-23</td><td>D010</td></tr><tr><td>P176</td><td>Rachel Adams</td><td>41</td><td>F</td><td>17474 Elm St</td><td>555-2345</td><td>2024-06-24</td><td>D008</td></tr><tr><td>P177</td><td>Samuel Harris</td><td>34</td><td>M</td><td>17575 Oak St</td><td>555-3456</td><td>2024-06-25</td><td>D004</td></tr><tr><td>P178</td><td>Tiffany King</td><td>50</td><td>F</td><td>17676 Pine St</td><td>555-4567</td><td>2024-06-26</td><td>D006</td></tr><tr><td>P179</td><td>Uriel Scott</td><td>29</td><td>M</td><td>17777 Maple St</td><td>555-5678</td><td>2024-06-27</td><td>D005</td></tr><tr><td>P180</td><td>Vanessa Adams</td><td>44</td><td>F</td><td>17878 Birch St</td><td>555-6789</td><td>2024-06-28</td><td>D007</td></tr><tr><td>P181</td><td>William Johnson</td><td>37</td><td>M</td><td>17979 Cedar St</td><td>555-7890</td><td>2024-06-29</td><td>D002</td></tr><tr><td>P182</td><td>Xena Harris</td><td>46</td><td>F</td><td>18080 Elm St</td><td>555-8901</td><td>2024-06-30</td><td>D009</td></tr><tr><td>P183</td><td>Yvonne Brown</td><td>33</td><td>F</td><td>18181 Oak St</td><td>555-9012</td><td>2024-07-01</td><td>D010</td></tr><tr><td>P184</td><td>Zachary Scott</td><td>52</td><td>M</td><td>18282 Pine St</td><td>555-0123</td><td>2024-07-02</td><td>D001</td></tr><tr><td>P185</td><td>Alice Lee</td><td>50</td><td>F</td><td>18383 Maple St</td><td>555-1234</td><td>2024-07-03</td><td>D003</td></tr><tr><td>P186</td><td>Benjamin Harris</td><td>35</td><td>M</td><td>18484 Birch St</td><td>555-2345</td><td>2024-07-04</td><td>D006</td></tr><tr><td>P187</td><td>Catherine Adams</td><td>44</td><td>F</td><td>18585 Cedar St</td><td>555-3456</td><td>2024-07-05</td><td>D008</td></tr><tr><td>P188</td><td>Daniel Johnson</td><td>41</td><td>M</td><td>18686 Elm St</td><td>555-4567</td><td>2024-07-06</td><td>D004</td></tr><tr><td>P189</td><td>Emily Scott</td><td>30</td><td>F</td><td>18787 Oak St</td><td>555-5678</td><td>2024-07-07</td><td>D007</td></tr><tr><td>P190</td><td>Frankie Lee</td><td>46</td><td>M</td><td>18888 Pine St</td><td>555-6789</td><td>2024-07-08</td><td>D005</td></tr><tr><td>P191</td><td>Grace Brown</td><td>29</td><td>F</td><td>18989 Maple St</td><td>555-7890</td><td>2024-07-09</td><td>D009</td></tr><tr><td>P192</td><td>Henry Harris</td><td>37</td><td>M</td><td>19090 Birch St</td><td>555-8901</td><td>2024-07-10</td><td>D010</td></tr><tr><td>P193</td><td>Isabella Adams</td><td>48</td><td>F</td><td>19191 Cedar St</td><td>555-9012</td><td>2024-07-11</td><td>D002</td></tr><tr><td>P194</td><td>Jack Lee</td><td>34</td><td>M</td><td>19292 Elm St</td><td>555-0123</td><td>2024-07-12</td><td>D003</td></tr><tr><td>P195</td><td>Kimberly Scott</td><td>41</td><td>F</td><td>19393 Oak St</td><td>555-1234</td><td>2024-07-13</td><td>D001</td></tr><tr><td>P196</td><td>Liam Brown</td><td>50</td><td>M</td><td>19494 Pine St</td><td>555-2345</td><td>2024-07-14</td><td>D007</td></tr><tr><td>P197</td><td>Maria Johnson</td><td>46</td><td>F</td><td>19595 Maple St</td><td>555-3456</td><td>2024-07-15</td><td>D006</td></tr><tr><td>P198</td><td>Nathan Harris</td><td>30</td><td>M</td><td>19696 Birch St</td><td>555-4567</td><td>2024-07-16</td><td>D010</td></tr><tr><td>P199</td><td>Olivia Adams</td><td>44</td><td>F</td><td>19797 Cedar St</td><td>555-5678</td><td>2024-07-17</td><td>D004</td></tr><tr><td>P200</td><td>Patrick Brown</td><td>33</td><td>M</td><td>19898 Elm St</td><td>555-6789</td><td>2024-07-18</td><td>D008</td></tr></tbody></table></div>"
      ]
     },
     "metadata": {
      "application/vnd.databricks.v1+output": {
       "addedWidgets": {},
       "aggData": [],
       "aggError": "",
       "aggOverflow": false,
       "aggSchema": [],
       "aggSeriesLimitReached": false,
       "aggType": "",
       "arguments": {},
       "columnCustomDisplayInfos": {},
       "data": [
        [
         "P001",
         "John Doe",
         45,
         "M",
         "123 Elm St",
         "555-1234",
         "2024-01-01",
         "D001"
        ],
        [
         "P002",
         "Jane Smith",
         34,
         "F",
         "456 Oak St",
         "555-5678",
         "2024-01-02",
         "D002"
        ],
        [
         "P003",
         "Alice Johnson",
         29,
         "F",
         "789 Pine St",
         "555-8765",
         "2024-01-03",
         "D003"
        ],
        [
         "P004",
         "Bob Brown",
         54,
         "M",
         "101 Maple St",
         "555-4321",
         "2024-01-04",
         "D004"
        ],
        [
         "P005",
         "Eve Davis",
         61,
         "F",
         "202 Cedar St",
         "555-6789",
         "2024-01-05",
         "D005"
        ],
        [
         "P006",
         "Charlie Wilson",
         40,
         "M",
         "303 Birch St",
         "555-2345",
         "2024-01-06",
         "D006"
        ],
        [
         "P007",
         "Diana Martinez",
         48,
         "F",
         "404 Cedar St",
         "555-3456",
         "2024-01-07",
         "D007"
        ],
        [
         "P008",
         "Edward Clark",
         52,
         "M",
         "505 Elm St",
         "555-4567",
         "2024-01-08",
         "D008"
        ],
        [
         "P009",
         "Grace Lewis",
         37,
         "F",
         "606 Oak St",
         "555-5678",
         "2024-01-09",
         "D009"
        ],
        [
         "P010",
         "Harry Walker",
         33,
         "M",
         "707 Pine St",
         "555-6789",
         "2024-01-10",
         "D010"
        ],
        [
         "P011",
         "Ivy Hall",
         41,
         "F",
         "808 Maple St",
         "555-7890",
         "2024-01-11",
         "D003"
        ],
        [
         "P012",
         "James Allen",
         46,
         "M",
         "909 Birch St",
         "555-8901",
         "2024-01-12",
         "D007"
        ],
        [
         "P013",
         "Karen Young",
         28,
         "F",
         "1010 Cedar St",
         "555-9012",
         "2024-01-13",
         "D002"
        ],
        [
         "P014",
         "Liam King",
         39,
         "M",
         "1111 Elm St",
         "555-0123",
         "2024-01-14",
         "D009"
        ],
        [
         "P015",
         "Mia Scott",
         50,
         "F",
         "1212 Oak St",
         "555-1234",
         "2024-01-15",
         "D001"
        ],
        [
         "P016",
         "Noah Adams",
         43,
         "M",
         "1313 Pine St",
         "555-2345",
         "2024-01-16",
         "D010"
        ],
        [
         "P017",
         "Olivia Baker",
         31,
         "F",
         "1414 Maple St",
         "555-3456",
         "2024-01-17",
         "D008"
        ],
        [
         "P018",
         "Paul Gonzalez",
         55,
         "M",
         "1515 Birch St",
         "555-4567",
         "2024-01-18",
         "D004"
        ],
        [
         "P019",
         "Quinn Carter",
         49,
         "F",
         "1616 Cedar St",
         "555-5678",
         "2024-01-19",
         "D006"
        ],
        [
         "P020",
         "Rachel Phillips",
         30,
         "F",
         "1717 Elm St",
         "555-6789",
         "2024-01-20",
         "D005"
        ],
        [
         "P021",
         "Steve Evans",
         44,
         "M",
         "1818 Oak St",
         "555-7890",
         "2024-01-21",
         "D007"
        ],
        [
         "P022",
         "Tracy Nelson",
         32,
         "F",
         "1919 Pine St",
         "555-8901",
         "2024-01-22",
         "D002"
        ],
        [
         "P023",
         "Uma Brooks",
         47,
         "F",
         "2020 Maple St",
         "555-9012",
         "2024-01-23",
         "D009"
        ],
        [
         "P024",
         "Victor Morris",
         38,
         "M",
         "2121 Birch St",
         "555-0123",
         "2024-01-24",
         "D010"
        ],
        [
         "P025",
         "Wendy Cooper",
         51,
         "F",
         "2222 Cedar St",
         "555-1234",
         "2024-01-25",
         "D001"
        ],
        [
         "P026",
         "Xander Lee",
         29,
         "M",
         "2323 Elm St",
         "555-2345",
         "2024-01-26",
         "D003"
        ],
        [
         "P027",
         "Yara Bell",
         40,
         "F",
         "2424 Oak St",
         "555-3456",
         "2024-01-27",
         "D006"
        ],
        [
         "P028",
         "Zachary Harris",
         56,
         "M",
         "2525 Pine St",
         "555-4567",
         "2024-01-28",
         "D008"
        ],
        [
         "P029",
         "Amelia Gray",
         34,
         "F",
         "2626 Maple St",
         "555-5678",
         "2024-01-29",
         "D004"
        ],
        [
         "P030",
         "Benjamin Wright",
         42,
         "M",
         "2727 Birch St",
         "555-6789",
         "2024-01-30",
         "D007"
        ],
        [
         "P031",
         "Catherine James",
         46,
         "F",
         "2828 Cedar St",
         "555-7890",
         "2024-01-31",
         "D005"
        ],
        [
         "P032",
         "David Walker",
         50,
         "M",
         "2929 Elm St",
         "555-8901",
         "2024-02-01",
         "D009"
        ],
        [
         "P033",
         "Emily King",
         31,
         "F",
         "3030 Oak St",
         "555-9012",
         "2024-02-02",
         "D010"
        ],
        [
         "P034",
         "Frank Hall",
         47,
         "M",
         "3131 Pine St",
         "555-0123",
         "2024-02-03",
         "D002"
        ],
        [
         "P035",
         "Grace Adams",
         53,
         "F",
         "3232 Maple St",
         "555-1234",
         "2024-02-04",
         "D003"
        ],
        [
         "P036",
         "Henry Scott",
         38,
         "M",
         "3333 Birch St",
         "555-2345",
         "2024-02-05",
         "D001"
        ],
        [
         "P037",
         "Isabella Lewis",
         39,
         "F",
         "3434 Cedar St",
         "555-3456",
         "2024-02-06",
         "D007"
        ],
        [
         "P038",
         "Jack Young",
         45,
         "M",
         "3535 Elm St",
         "555-4567",
         "2024-02-07",
         "D006"
        ],
        [
         "P039",
         "Kimberly Brown",
         48,
         "F",
         "3636 Oak St",
         "555-5678",
         "2024-02-08",
         "D010"
        ],
        [
         "P040",
         "Lucas Miller",
         29,
         "M",
         "3737 Pine St",
         "555-6789",
         "2024-02-09",
         "D004"
        ],
        [
         "P041",
         "Maria Davis",
         36,
         "F",
         "3838 Maple St",
         "555-7890",
         "2024-02-10",
         "D008"
        ],
        [
         "P042",
         "Nathan Robinson",
         50,
         "M",
         "3939 Birch St",
         "555-8901",
         "2024-02-11",
         "D005"
        ],
        [
         "P043",
         "Olivia Carter",
         52,
         "F",
         "4040 Cedar St",
         "555-9012",
         "2024-02-12",
         "D009"
        ],
        [
         "P044",
         "Patrick Wilson",
         37,
         "M",
         "4141 Elm St",
         "555-0123",
         "2024-02-13",
         "D001"
        ],
        [
         "P045",
         "Quinn Evans",
         55,
         "F",
         "4242 Oak St",
         "555-1234",
         "2024-02-14",
         "D010"
        ],
        [
         "P046",
         "Rachel Harris",
         41,
         "F",
         "4343 Pine St",
         "555-2345",
         "2024-02-15",
         "D007"
        ],
        [
         "P047",
         "Samuel Clark",
         39,
         "M",
         "4444 Maple St",
         "555-3456",
         "2024-02-16",
         "D002"
        ],
        [
         "P048",
         "Tiffany Johnson",
         34,
         "F",
         "4545 Birch St",
         "555-4567",
         "2024-02-17",
         "D003"
        ],
        [
         "P049",
         "Uriel Martinez",
         44,
         "M",
         "4646 Cedar St",
         "555-5678",
         "2024-02-18",
         "D006"
        ],
        [
         "P050",
         "Vanessa Lewis",
         51,
         "F",
         "4747 Elm St",
         "555-6789",
         "2024-02-19",
         "D008"
        ],
        [
         "P051",
         "William Green",
         46,
         "M",
         "4848 Oak St",
         "555-7890",
         "2024-02-20",
         "D005"
        ],
        [
         "P052",
         "Xena Walker",
         35,
         "F",
         "4949 Pine St",
         "555-8901",
         "2024-02-21",
         "D009"
        ],
        [
         "P053",
         "Yvonne Carter",
         42,
         "F",
         "5050 Maple St",
         "555-9012",
         "2024-02-22",
         "D001"
        ],
        [
         "P054",
         "Zachary Adams",
         38,
         "M",
         "5151 Birch St",
         "555-0123",
         "2024-02-23",
         "D010"
        ],
        [
         "P055",
         "Alice Thompson",
         40,
         "F",
         "5252 Cedar St",
         "555-1234",
         "2024-02-24",
         "D004"
        ],
        [
         "P056",
         "Benjamin Clark",
         50,
         "M",
         "5353 Elm St",
         "555-2345",
         "2024-02-25",
         "D007"
        ],
        [
         "P057",
         "Catherine Lee",
         29,
         "F",
         "5454 Oak St",
         "555-3456",
         "2024-02-26",
         "D002"
        ],
        [
         "P058",
         "Daniel Wright",
         44,
         "M",
         "5555 Pine St",
         "555-4567",
         "2024-02-27",
         "D003"
        ],
        [
         "P059",
         "Emily Harris",
         37,
         "F",
         "5656 Maple St",
         "555-5678",
         "2024-02-28",
         "D005"
        ],
        [
         "P060",
         "Frankie Young",
         52,
         "M",
         "5757 Birch St",
         "555-6789",
         "2024-02-29",
         "D008"
        ],
        [
         "P061",
         "Grace Robinson",
         33,
         "F",
         "5858 Cedar St",
         "555-7890",
         "2024-03-01",
         "D009"
        ],
        [
         "P062",
         "Henry Davis",
         46,
         "M",
         "5959 Elm St",
         "555-8901",
         "2024-03-02",
         "D010"
        ],
        [
         "P063",
         "Isabella Evans",
         31,
         "F",
         "6060 Oak St",
         "555-9012",
         "2024-03-03",
         "D001"
        ],
        [
         "P064",
         "Jack Lewis",
         49,
         "M",
         "6161 Pine St",
         "555-0123",
         "2024-03-04",
         "D007"
        ],
        [
         "P065",
         "Kimberly Wilson",
         36,
         "F",
         "6262 Maple St",
         "555-1234",
         "2024-03-05",
         "D002"
        ],
        [
         "P066",
         "Liam Harris",
         41,
         "M",
         "6363 Birch St",
         "555-2345",
         "2024-03-06",
         "D004"
        ],
        [
         "P067",
         "Maria Young",
         30,
         "F",
         "6464 Cedar St",
         "555-3456",
         "2024-03-07",
         "D009"
        ],
        [
         "P068",
         "Nathan Scott",
         51,
         "M",
         "6565 Elm St",
         "555-4567",
         "2024-03-08",
         "D003"
        ],
        [
         "P069",
         "Olivia King",
         37,
         "F",
         "6666 Oak St",
         "555-5678",
         "2024-03-09",
         "D006"
        ],
        [
         "P070",
         "Patrick Martinez",
         40,
         "M",
         "6767 Pine St",
         "555-6789",
         "2024-03-10",
         "D010"
        ],
        [
         "P071",
         "Quinn Adams",
         53,
         "F",
         "6868 Maple St",
         "555-7890",
         "2024-03-11",
         "D008"
        ],
        [
         "P072",
         "Rachel White",
         34,
         "F",
         "6969 Birch St",
         "555-8901",
         "2024-03-12",
         "D005"
        ],
        [
         "P073",
         "Samuel Robinson",
         38,
         "M",
         "7070 Cedar St",
         "555-9012",
         "2024-03-13",
         "D007"
        ],
        [
         "P074",
         "Tiffany Brown",
         45,
         "F",
         "7171 Elm St",
         "555-0123",
         "2024-03-14",
         "D002"
        ],
        [
         "P075",
         "Uriel Davis",
         50,
         "M",
         "7272 Oak St",
         "555-1234",
         "2024-03-15",
         "D009"
        ],
        [
         "P076",
         "Vanessa Johnson",
         29,
         "F",
         "7373 Pine St",
         "555-2345",
         "2024-03-16",
         "D001"
        ],
        [
         "P077",
         "William White",
         42,
         "M",
         "7474 Maple St",
         "555-3456",
         "2024-03-17",
         "D010"
        ],
        [
         "P078",
         "Xena Adams",
         39,
         "F",
         "7575 Birch St",
         "555-4567",
         "2024-03-18",
         "D003"
        ],
        [
         "P079",
         "Yvonne Scott",
         46,
         "F",
         "7676 Cedar St",
         "555-5678",
         "2024-03-19",
         "D004"
        ],
        [
         "P080",
         "Zachary Harris",
         33,
         "M",
         "7777 Elm St",
         "555-6789",
         "2024-03-20",
         "D008"
        ],
        [
         "P081",
         "Alice Lewis",
         50,
         "F",
         "7878 Oak St",
         "555-7890",
         "2024-03-21",
         "D005"
        ],
        [
         "P082",
         "Benjamin Wilson",
         28,
         "M",
         "7979 Pine St",
         "555-8901",
         "2024-03-22",
         "D007"
        ],
        [
         "P083",
         "Catherine Davis",
         44,
         "F",
         "8080 Maple St",
         "555-9012",
         "2024-03-23",
         "D006"
        ],
        [
         "P084",
         "Daniel Young",
         39,
         "M",
         "8181 Birch St",
         "555-0123",
         "2024-03-24",
         "D002"
        ],
        [
         "P085",
         "Emily Brown",
         53,
         "F",
         "8282 Cedar St",
         "555-1234",
         "2024-03-25",
         "D009"
        ],
        [
         "P086",
         "Frankie Harris",
         42,
         "M",
         "8383 Elm St",
         "555-2345",
         "2024-03-26",
         "D010"
        ],
        [
         "P087",
         "Grace Wilson",
         31,
         "F",
         "8484 Oak St",
         "555-3456",
         "2024-03-27",
         "D001"
        ],
        [
         "P088",
         "Henry Scott",
         50,
         "M",
         "8585 Pine St",
         "555-4567",
         "2024-03-28",
         "D004"
        ],
        [
         "P089",
         "Isabella Adams",
         47,
         "F",
         "8686 Maple St",
         "555-5678",
         "2024-03-29",
         "D007"
        ],
        [
         "P090",
         "Jack Johnson",
         36,
         "M",
         "8787 Birch St",
         "555-6789",
         "2024-03-30",
         "D005"
        ],
        [
         "P091",
         "Kimberly Lee",
         34,
         "F",
         "8888 Cedar St",
         "555-7890",
         "2024-03-31",
         "D008"
        ],
        [
         "P092",
         "Liam Carter",
         45,
         "M",
         "8989 Elm St",
         "555-8901",
         "2024-04-01",
         "D009"
        ],
        [
         "P093",
         "Maria White",
         52,
         "F",
         "9090 Oak St",
         "555-9012",
         "2024-04-02",
         "D010"
        ],
        [
         "P094",
         "Nathan Brown",
         30,
         "M",
         "9191 Pine St",
         "555-0123",
         "2024-04-03",
         "D003"
        ],
        [
         "P095",
         "Olivia King",
         39,
         "F",
         "9292 Maple St",
         "555-1234",
         "2024-04-04",
         "D002"
        ],
        [
         "P096",
         "Patrick Harris",
         50,
         "M",
         "9393 Birch St",
         "555-2345",
         "2024-04-05",
         "D007"
        ],
        [
         "P097",
         "Quinn Lewis",
         41,
         "F",
         "9494 Cedar St",
         "555-3456",
         "2024-04-06",
         "D010"
        ],
        [
         "P098",
         "Rachel Adams",
         28,
         "F",
         "9595 Elm St",
         "555-4567",
         "2024-04-07",
         "D005"
        ],
        [
         "P099",
         "Samuel Johnson",
         46,
         "M",
         "9696 Oak St",
         "555-5678",
         "2024-04-08",
         "D008"
        ],
        [
         "P100",
         "Tiffany Davis",
         53,
         "F",
         "9797 Pine St",
         "555-6789",
         "2024-04-09",
         "D001"
        ],
        [
         "P101",
         "Uriel Adams",
         35,
         "F",
         "9898 Maple St",
         "555-7890",
         "2024-04-10",
         "D009"
        ],
        [
         "P102",
         "Vanessa Lee",
         48,
         "M",
         "9999 Birch St",
         "555-8901",
         "2024-04-11",
         "D003"
        ],
        [
         "P103",
         "William Davis",
         40,
         "F",
         "10101 Cedar St",
         "555-9012",
         "2024-04-12",
         "D006"
        ],
        [
         "P104",
         "Xena Johnson",
         29,
         "M",
         "10202 Elm St",
         "555-0123",
         "2024-04-13",
         "D007"
        ],
        [
         "P105",
         "Yvonne King",
         46,
         "F",
         "10303 Oak St",
         "555-1234",
         "2024-04-14",
         "D010"
        ],
        [
         "P106",
         "Zachary Brown",
         39,
         "M",
         "10404 Pine St",
         "555-2345",
         "2024-04-15",
         "D004"
        ],
        [
         "P107",
         "Alice Carter",
         51,
         "F",
         "10505 Maple St",
         "555-3456",
         "2024-04-16",
         "D005"
        ],
        [
         "P108",
         "Benjamin Scott",
         42,
         "M",
         "10606 Birch St",
         "555-4567",
         "2024-04-17",
         "D009"
        ],
        [
         "P109",
         "Catherine Harris",
         34,
         "F",
         "10707 Cedar St",
         "555-5678",
         "2024-04-18",
         "D003"
        ],
        [
         "P110",
         "Daniel Adams",
         39,
         "M",
         "10808 Elm St",
         "555-6789",
         "2024-04-19",
         "D001"
        ],
        [
         "P111",
         "Emily King",
         30,
         "F",
         "10909 Oak St",
         "555-7890",
         "2024-04-20",
         "D008"
        ],
        [
         "P112",
         "Frankie Lewis",
         53,
         "M",
         "11010 Pine St",
         "555-8901",
         "2024-04-21",
         "D007"
        ],
        [
         "P113",
         "Grace Johnson",
         36,
         "F",
         "11111 Maple St",
         "555-9012",
         "2024-04-22",
         "D010"
        ],
        [
         "P114",
         "Henry Adams",
         31,
         "M",
         "11212 Birch St",
         "555-0123",
         "2024-04-23",
         "D002"
        ],
        [
         "P115",
         "Isabella Wilson",
         50,
         "F",
         "11313 Cedar St",
         "555-1234",
         "2024-04-24",
         "D006"
        ],
        [
         "P116",
         "Jack Harris",
         29,
         "M",
         "11414 Elm St",
         "555-2345",
         "2024-04-25",
         "D009"
        ],
        [
         "P117",
         "Kimberly Lee",
         47,
         "F",
         "11515 Oak St",
         "555-3456",
         "2024-04-26",
         "D005"
        ],
        [
         "P118",
         "Liam Scott",
         34,
         "M",
         "11616 Pine St",
         "555-4567",
         "2024-04-27",
         "D001"
        ],
        [
         "P119",
         "Maria Brown",
         43,
         "F",
         "11717 Maple St",
         "555-5678",
         "2024-04-28",
         "D004"
        ],
        [
         "P120",
         "Nathan Johnson",
         39,
         "M",
         "11818 Birch St",
         "555-6789",
         "2024-04-29",
         "D007"
        ],
        [
         "P121",
         "Olivia Carter",
         46,
         "F",
         "11919 Cedar St",
         "555-7890",
         "2024-04-30",
         "D010"
        ],
        [
         "P122",
         "Patrick Lee",
         33,
         "M",
         "12020 Elm St",
         "555-8901",
         "2024-05-01",
         "D003"
        ],
        [
         "P123",
         "Quinn Davis",
         52,
         "F",
         "12121 Oak St",
         "555-9012",
         "2024-05-02",
         "D008"
        ],
        [
         "P124",
         "Rachel Scott",
         41,
         "F",
         "12222 Pine St",
         "555-0123",
         "2024-05-03",
         "D002"
        ],
        [
         "P125",
         "Samuel White",
         38,
         "M",
         "12323 Maple St",
         "555-1234",
         "2024-05-04",
         "D009"
        ],
        [
         "P126",
         "Tiffany Johnson",
         29,
         "F",
         "12424 Birch St",
         "555-2345",
         "2024-05-05",
         "D005"
        ],
        [
         "P127",
         "Uriel Harris",
         46,
         "M",
         "12525 Cedar St",
         "555-3456",
         "2024-05-06",
         "D010"
        ],
        [
         "P128",
         "Vanessa Brown",
         30,
         "F",
         "12626 Elm St",
         "555-4567",
         "2024-05-07",
         "D001"
        ],
        [
         "P129",
         "William King",
         39,
         "M",
         "12727 Oak St",
         "555-5678",
         "2024-05-08",
         "D004"
        ],
        [
         "P130",
         "Xena Adams",
         44,
         "F",
         "12828 Pine St",
         "555-6789",
         "2024-05-09",
         "D007"
        ],
        [
         "P131",
         "Yvonne Davis",
         33,
         "F",
         "12929 Maple St",
         "555-7890",
         "2024-05-10",
         "D003"
        ],
        [
         "P132",
         "Zachary Lewis",
         52,
         "M",
         "13030 Birch St",
         "555-8901",
         "2024-05-11",
         "D006"
        ],
        [
         "P133",
         "Alice White",
         48,
         "F",
         "13131 Cedar St",
         "555-9012",
         "2024-05-12",
         "D008"
        ],
        [
         "P134",
         "Benjamin Scott",
         37,
         "M",
         "13232 Elm St",
         "555-0123",
         "2024-05-13",
         "D002"
        ],
        [
         "P135",
         "Catherine Adams",
         50,
         "F",
         "13333 Oak St",
         "555-1234",
         "2024-05-14",
         "D009"
        ],
        [
         "P136",
         "Daniel King",
         29,
         "M",
         "13434 Pine St",
         "555-2345",
         "2024-05-15",
         "D010"
        ],
        [
         "P137",
         "Emily Johnson",
         46,
         "F",
         "13535 Maple St",
         "555-3456",
         "2024-05-16",
         "D001"
        ],
        [
         "P138",
         "Frankie Davis",
         41,
         "M",
         "13636 Birch St",
         "555-4567",
         "2024-05-17",
         "D007"
        ],
        [
         "P139",
         "Grace Brown",
         30,
         "F",
         "13737 Cedar St",
         "555-5678",
         "2024-05-18",
         "D005"
        ],
        [
         "P140",
         "Henry Lee",
         35,
         "M",
         "13838 Elm St",
         "555-6789",
         "2024-05-19",
         "D003"
        ],
        [
         "P141",
         "Isabella Harris",
         43,
         "F",
         "13939 Oak St",
         "555-7890",
         "2024-05-20",
         "D004"
        ],
        [
         "P142",
         "Jack Scott",
         29,
         "M",
         "14040 Pine St",
         "555-8901",
         "2024-05-21",
         "D008"
        ],
        [
         "P143",
         "Kimberly Johnson",
         50,
         "F",
         "14141 Maple St",
         "555-9012",
         "2024-05-22",
         "D010"
        ],
        [
         "P144",
         "Liam Carter",
         39,
         "M",
         "14242 Birch St",
         "555-0123",
         "2024-05-23",
         "D006"
        ],
        [
         "P145",
         "Maria Lee",
         52,
         "F",
         "14343 Cedar St",
         "555-1234",
         "2024-05-24",
         "D009"
        ],
        [
         "P146",
         "Nathan Adams",
         30,
         "M",
         "14444 Elm St",
         "555-2345",
         "2024-05-25",
         "D002"
        ],
        [
         "P147",
         "Olivia Wilson",
         48,
         "F",
         "14545 Oak St",
         "555-3456",
         "2024-05-26",
         "D005"
        ],
        [
         "P148",
         "Patrick Brown",
         34,
         "M",
         "14646 Pine St",
         "555-4567",
         "2024-05-27",
         "D010"
        ],
        [
         "P149",
         "Quinn Harris",
         50,
         "F",
         "14747 Maple St",
         "555-5678",
         "2024-05-28",
         "D001"
        ],
        [
         "P150",
         "Rachel Johnson",
         41,
         "F",
         "14848 Birch St",
         "555-6789",
         "2024-05-29",
         "D007"
        ],
        [
         "P151",
         "Samuel Lee",
         28,
         "M",
         "14949 Cedar St",
         "555-7890",
         "2024-05-30",
         "D004"
        ],
        [
         "P152",
         "Tiffany White",
         46,
         "F",
         "15050 Elm St",
         "555-8901",
         "2024-05-31",
         "D002"
        ],
        [
         "P153",
         "Uriel Adams",
         39,
         "M",
         "15151 Oak St",
         "555-9012",
         "2024-06-01",
         "D003"
        ],
        [
         "P154",
         "Vanessa Harris",
         32,
         "F",
         "15252 Pine St",
         "555-0123",
         "2024-06-02",
         "D009"
        ],
        [
         "P155",
         "William King",
         50,
         "M",
         "15353 Maple St",
         "555-1234",
         "2024-06-03",
         "D006"
        ],
        [
         "P156",
         "Xena Johnson",
         29,
         "F",
         "15454 Birch St",
         "555-2345",
         "2024-06-04",
         "D008"
        ],
        [
         "P157",
         "Yvonne Davis",
         44,
         "F",
         "15555 Cedar St",
         "555-3456",
         "2024-06-05",
         "D010"
        ],
        [
         "P158",
         "Zachary Brown",
         37,
         "M",
         "15656 Elm St",
         "555-4567",
         "2024-06-06",
         "D001"
        ],
        [
         "P159",
         "Alice Scott",
         51,
         "F",
         "15757 Oak St",
         "555-5678",
         "2024-06-07",
         "D001"
        ],
        [
         "P160",
         "Benjamin Lee",
         42,
         "M",
         "15858 Pine St",
         "555-6789",
         "2024-06-08",
         "D001"
        ],
        [
         "P161",
         "Catherine King",
         33,
         "F",
         "15959 Maple St",
         "555-7890",
         "2024-06-09",
         "D002"
        ],
        [
         "P162",
         "Daniel Harris",
         48,
         "M",
         "16060 Birch St",
         "555-8901",
         "2024-06-10",
         "D003"
        ],
        [
         "P163",
         "Emily Adams",
         37,
         "F",
         "16161 Cedar St",
         "555-9012",
         "2024-06-11",
         "D004"
        ],
        [
         "P164",
         "Frankie Johnson",
         52,
         "M",
         "16262 Elm St",
         "555-0123",
         "2024-06-12",
         "D005"
        ],
        [
         "P165",
         "Grace Lee",
         30,
         "F",
         "16363 Oak St",
         "555-1234",
         "2024-06-13",
         "D006"
        ],
        [
         "P166",
         "Henry Brown",
         39,
         "M",
         "16464 Pine St",
         "555-2345",
         "2024-06-14",
         "D007"
        ],
        [
         "P167",
         "Isabella Scott",
         46,
         "F",
         "16565 Maple St",
         "555-3456",
         "2024-06-15",
         "D008"
        ],
        [
         "P168",
         "Jack Carter",
         34,
         "M",
         "16666 Birch St",
         "555-4567",
         "2024-06-16",
         "D009"
        ],
        [
         "P169",
         "Kimberly Adams",
         50,
         "F",
         "16767 Cedar St",
         "555-5678",
         "2024-06-17",
         "D010"
        ],
        [
         "P170",
         "Liam Johnson",
         29,
         "M",
         "16868 Elm St",
         "555-6789",
         "2024-06-18",
         "D003"
        ],
        [
         "P171",
         "Maria Lee",
         43,
         "F",
         "16969 Oak St",
         "555-7890",
         "2024-06-19",
         "D007"
        ],
        [
         "P172",
         "Nathan Brown",
         35,
         "M",
         "17070 Pine St",
         "555-8901",
         "2024-06-20",
         "D002"
        ],
        [
         "P173",
         "Olivia Harris",
         48,
         "F",
         "17171 Maple St",
         "555-9012",
         "2024-06-21",
         "D009"
        ],
        [
         "P174",
         "Patrick Scott",
         30,
         "M",
         "17272 Birch St",
         "555-0123",
         "2024-06-22",
         "D001"
        ],
        [
         "P175",
         "Quinn Johnson",
         52,
         "F",
         "17373 Cedar St",
         "555-1234",
         "2024-06-23",
         "D010"
        ],
        [
         "P176",
         "Rachel Adams",
         41,
         "F",
         "17474 Elm St",
         "555-2345",
         "2024-06-24",
         "D008"
        ],
        [
         "P177",
         "Samuel Harris",
         34,
         "M",
         "17575 Oak St",
         "555-3456",
         "2024-06-25",
         "D004"
        ],
        [
         "P178",
         "Tiffany King",
         50,
         "F",
         "17676 Pine St",
         "555-4567",
         "2024-06-26",
         "D006"
        ],
        [
         "P179",
         "Uriel Scott",
         29,
         "M",
         "17777 Maple St",
         "555-5678",
         "2024-06-27",
         "D005"
        ],
        [
         "P180",
         "Vanessa Adams",
         44,
         "F",
         "17878 Birch St",
         "555-6789",
         "2024-06-28",
         "D007"
        ],
        [
         "P181",
         "William Johnson",
         37,
         "M",
         "17979 Cedar St",
         "555-7890",
         "2024-06-29",
         "D002"
        ],
        [
         "P182",
         "Xena Harris",
         46,
         "F",
         "18080 Elm St",
         "555-8901",
         "2024-06-30",
         "D009"
        ],
        [
         "P183",
         "Yvonne Brown",
         33,
         "F",
         "18181 Oak St",
         "555-9012",
         "2024-07-01",
         "D010"
        ],
        [
         "P184",
         "Zachary Scott",
         52,
         "M",
         "18282 Pine St",
         "555-0123",
         "2024-07-02",
         "D001"
        ],
        [
         "P185",
         "Alice Lee",
         50,
         "F",
         "18383 Maple St",
         "555-1234",
         "2024-07-03",
         "D003"
        ],
        [
         "P186",
         "Benjamin Harris",
         35,
         "M",
         "18484 Birch St",
         "555-2345",
         "2024-07-04",
         "D006"
        ],
        [
         "P187",
         "Catherine Adams",
         44,
         "F",
         "18585 Cedar St",
         "555-3456",
         "2024-07-05",
         "D008"
        ],
        [
         "P188",
         "Daniel Johnson",
         41,
         "M",
         "18686 Elm St",
         "555-4567",
         "2024-07-06",
         "D004"
        ],
        [
         "P189",
         "Emily Scott",
         30,
         "F",
         "18787 Oak St",
         "555-5678",
         "2024-07-07",
         "D007"
        ],
        [
         "P190",
         "Frankie Lee",
         46,
         "M",
         "18888 Pine St",
         "555-6789",
         "2024-07-08",
         "D005"
        ],
        [
         "P191",
         "Grace Brown",
         29,
         "F",
         "18989 Maple St",
         "555-7890",
         "2024-07-09",
         "D009"
        ],
        [
         "P192",
         "Henry Harris",
         37,
         "M",
         "19090 Birch St",
         "555-8901",
         "2024-07-10",
         "D010"
        ],
        [
         "P193",
         "Isabella Adams",
         48,
         "F",
         "19191 Cedar St",
         "555-9012",
         "2024-07-11",
         "D002"
        ],
        [
         "P194",
         "Jack Lee",
         34,
         "M",
         "19292 Elm St",
         "555-0123",
         "2024-07-12",
         "D003"
        ],
        [
         "P195",
         "Kimberly Scott",
         41,
         "F",
         "19393 Oak St",
         "555-1234",
         "2024-07-13",
         "D001"
        ],
        [
         "P196",
         "Liam Brown",
         50,
         "M",
         "19494 Pine St",
         "555-2345",
         "2024-07-14",
         "D007"
        ],
        [
         "P197",
         "Maria Johnson",
         46,
         "F",
         "19595 Maple St",
         "555-3456",
         "2024-07-15",
         "D006"
        ],
        [
         "P198",
         "Nathan Harris",
         30,
         "M",
         "19696 Birch St",
         "555-4567",
         "2024-07-16",
         "D010"
        ],
        [
         "P199",
         "Olivia Adams",
         44,
         "F",
         "19797 Cedar St",
         "555-5678",
         "2024-07-17",
         "D004"
        ],
        [
         "P200",
         "Patrick Brown",
         33,
         "M",
         "19898 Elm St",
         "555-6789",
         "2024-07-18",
         "D008"
        ]
       ],
       "datasetInfos": [],
       "dbfsResultPath": null,
       "isJsonSchema": true,
       "metadata": {},
       "overflow": false,
       "plotOptions": {
        "customPlotOptions": {},
        "displayType": "table",
        "pivotAggregation": null,
        "pivotColumns": null,
        "xColumns": null,
        "yColumns": null
       },
       "removedWidgets": [],
       "schema": [
        {
         "metadata": "{}",
         "name": "patient_id",
         "type": "\"string\""
        },
        {
         "metadata": "{}",
         "name": "name",
         "type": "\"string\""
        },
        {
         "metadata": "{}",
         "name": "age",
         "type": "\"integer\""
        },
        {
         "metadata": "{}",
         "name": "gender",
         "type": "\"string\""
        },
        {
         "metadata": "{}",
         "name": "address",
         "type": "\"string\""
        },
        {
         "metadata": "{}",
         "name": "contact_number",
         "type": "\"string\""
        },
        {
         "metadata": "{}",
         "name": "admission_date",
         "type": "\"date\""
        },
        {
         "metadata": "{}",
         "name": "diagnosis_code",
         "type": "\"string\""
        }
       ],
       "type": "table"
      }
     },
     "output_type": "display_data"
    }
   ],
   "source": [
    "path1 = \"dbfs:/FileStore/amarendra/raw_data/patients_daily_file_1_2024.csv\"\n",
    "path2 = \"dbfs:/FileStore/amarendra/raw_data/patients_daily_file_2_2024.csv\"\n",
    "path3 = \"dbfs:/FileStore/amarendra/raw_data/patients_daily_file_3_2024.csv\"\n",
    "df1 = spark.read.option(\"header\", \"true\").option(\"inferSchema\", \"true\").csv(f\"{path1}\")\n",
    "df1 = df1.withColumn(\"admission_date\", df1[\"admission_date\"].cast(\"date\"))\n",
    "display(df1)\n",
    "df1.write.format(\"delta\").option(\"mergeSchema\", \"true\").mode(\"append\").saveAsTable(\"default.raw_patients_daily\")"
   ]
  }
 ],
 "metadata": {
  "application/vnd.databricks.v1+notebook": {
   "dashboards": [],
   "environmentMetadata": {
    "base_environment": "",
    "client": "1"
   },
   "language": "python",
   "notebookMetadata": {
    "mostRecentlyExecutedCommandWithImplicitDF": {
     "commandId": 72115031735342,
     "dataframes": [
      "_sqldf"
     ]
    },
    "pythonIndentUnit": 4
   },
   "notebookName": "spark_code_to_feed_tables",
   "widgets": {}
  },
  "language_info": {
   "name": "python"
  }
 },
 "nbformat": 4,
 "nbformat_minor": 0
}
